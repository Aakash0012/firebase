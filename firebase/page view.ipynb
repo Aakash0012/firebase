{
 "cells": [
  {
   "cell_type": "code",
   "execution_count": 5,
   "id": "9f726c72",
   "metadata": {
    "scrolled": true
   },
   "outputs": [
    {
     "name": "stdout",
     "output_type": "stream",
     "text": [
      "Requirement already satisfied: firebase_admin in c:\\users\\pc\\appdata\\local\\programs\\python\\python310\\lib\\site-packages (5.2.0)\n",
      "Requirement already satisfied: google-cloud-storage>=1.37.1 in c:\\users\\pc\\appdata\\local\\programs\\python\\python310\\lib\\site-packages (from firebase_admin) (2.1.0)\n",
      "Requirement already satisfied: cachecontrol>=0.12.6 in c:\\users\\pc\\appdata\\local\\programs\\python\\python310\\lib\\site-packages (from firebase_admin) (0.12.10)\n",
      "Requirement already satisfied: google-api-python-client>=1.7.8 in c:\\users\\pc\\appdata\\local\\programs\\python\\python310\\lib\\site-packages (from firebase_admin) (2.36.0)\n",
      "Requirement already satisfied: google-api-core[grpc]<3.0.0dev,>=1.22.1 in c:\\users\\pc\\appdata\\local\\programs\\python\\python310\\lib\\site-packages (from firebase_admin) (2.5.0)\n",
      "Requirement already satisfied: google-cloud-firestore>=2.1.0 in c:\\users\\pc\\appdata\\local\\programs\\python\\python310\\lib\\site-packages (from firebase_admin) (2.3.4)\n",
      "Requirement already satisfied: requests in c:\\users\\pc\\appdata\\local\\programs\\python\\python310\\lib\\site-packages (from cachecontrol>=0.12.6->firebase_admin) (2.27.1)\n",
      "Requirement already satisfied: msgpack>=0.5.2 in c:\\users\\pc\\appdata\\local\\programs\\python\\python310\\lib\\site-packages (from cachecontrol>=0.12.6->firebase_admin) (1.0.3)\n",
      "Requirement already satisfied: google-auth<3.0dev,>=1.25.0 in c:\\users\\pc\\appdata\\local\\programs\\python\\python310\\lib\\site-packages (from google-api-core[grpc]<3.0.0dev,>=1.22.1->firebase_admin) (2.6.0)\n",
      "Requirement already satisfied: protobuf>=3.12.0 in c:\\users\\pc\\appdata\\local\\programs\\python\\python310\\lib\\site-packages (from google-api-core[grpc]<3.0.0dev,>=1.22.1->firebase_admin) (3.19.4)\n",
      "Requirement already satisfied: googleapis-common-protos<2.0dev,>=1.52.0 in c:\\users\\pc\\appdata\\local\\programs\\python\\python310\\lib\\site-packages (from google-api-core[grpc]<3.0.0dev,>=1.22.1->firebase_admin) (1.54.0)\n",
      "Requirement already satisfied: grpcio-status<2.0dev,>=1.33.2 in c:\\users\\pc\\appdata\\local\\programs\\python\\python310\\lib\\site-packages (from google-api-core[grpc]<3.0.0dev,>=1.22.1->firebase_admin) (1.43.0)\n",
      "Requirement already satisfied: grpcio<2.0dev,>=1.33.2 in c:\\users\\pc\\appdata\\local\\programs\\python\\python310\\lib\\site-packages (from google-api-core[grpc]<3.0.0dev,>=1.22.1->firebase_admin) (1.43.0)\n",
      "Requirement already satisfied: uritemplate<5,>=3.0.1 in c:\\users\\pc\\appdata\\local\\programs\\python\\python310\\lib\\site-packages (from google-api-python-client>=1.7.8->firebase_admin) (4.1.1)\n",
      "Requirement already satisfied: httplib2<1dev,>=0.15.0 in c:\\users\\pc\\appdata\\local\\programs\\python\\python310\\lib\\site-packages (from google-api-python-client>=1.7.8->firebase_admin) (0.20.4)\n",
      "Requirement already satisfied: google-auth-httplib2>=0.1.0 in c:\\users\\pc\\appdata\\local\\programs\\python\\python310\\lib\\site-packages (from google-api-python-client>=1.7.8->firebase_admin) (0.1.0)\n",
      "Requirement already satisfied: google-cloud-core<3.0.0dev,>=1.4.1 in c:\\users\\pc\\appdata\\local\\programs\\python\\python310\\lib\\site-packages (from google-cloud-firestore>=2.1.0->firebase_admin) (2.2.2)\n",
      "Requirement already satisfied: proto-plus>=1.10.0 in c:\\users\\pc\\appdata\\local\\programs\\python\\python310\\lib\\site-packages (from google-cloud-firestore>=2.1.0->firebase_admin) (1.19.9)\n",
      "Requirement already satisfied: packaging>=14.3 in c:\\users\\pc\\appdata\\local\\programs\\python\\python310\\lib\\site-packages (from google-cloud-firestore>=2.1.0->firebase_admin) (21.3)\n",
      "Requirement already satisfied: google-resumable-media>=1.3.0 in c:\\users\\pc\\appdata\\local\\programs\\python\\python310\\lib\\site-packages (from google-cloud-storage>=1.37.1->firebase_admin) (2.1.0)\n",
      "Requirement already satisfied: pyasn1-modules>=0.2.1 in c:\\users\\pc\\appdata\\local\\programs\\python\\python310\\lib\\site-packages (from google-auth<3.0dev,>=1.25.0->google-api-core[grpc]<3.0.0dev,>=1.22.1->firebase_admin) (0.2.8)\n",
      "Requirement already satisfied: rsa<5,>=3.1.4 in c:\\users\\pc\\appdata\\local\\programs\\python\\python310\\lib\\site-packages (from google-auth<3.0dev,>=1.25.0->google-api-core[grpc]<3.0.0dev,>=1.22.1->firebase_admin) (4.8)\n",
      "Requirement already satisfied: cachetools<6.0,>=2.0.0 in c:\\users\\pc\\appdata\\local\\programs\\python\\python310\\lib\\site-packages (from google-auth<3.0dev,>=1.25.0->google-api-core[grpc]<3.0.0dev,>=1.22.1->firebase_admin) (5.0.0)\n",
      "Requirement already satisfied: six>=1.9.0 in c:\\users\\pc\\appdata\\local\\programs\\python\\python310\\lib\\site-packages (from google-auth<3.0dev,>=1.25.0->google-api-core[grpc]<3.0.0dev,>=1.22.1->firebase_admin) (1.16.0)\n",
      "Requirement already satisfied: google-crc32c<2.0dev,>=1.0 in c:\\users\\pc\\appdata\\local\\programs\\python\\python310\\lib\\site-packages (from google-resumable-media>=1.3.0->google-cloud-storage>=1.37.1->firebase_admin) (1.3.0)\n",
      "Requirement already satisfied: pyparsing!=3.0.0,!=3.0.1,!=3.0.2,!=3.0.3,<4,>=2.4.2 in c:\\users\\pc\\appdata\\local\\programs\\python\\python310\\lib\\site-packages (from httplib2<1dev,>=0.15.0->google-api-python-client>=1.7.8->firebase_admin) (3.0.7)\n",
      "Requirement already satisfied: idna<4,>=2.5 in c:\\users\\pc\\appdata\\local\\programs\\python\\python310\\lib\\site-packages (from requests->cachecontrol>=0.12.6->firebase_admin) (3.3)\n",
      "Requirement already satisfied: charset-normalizer~=2.0.0 in c:\\users\\pc\\appdata\\local\\programs\\python\\python310\\lib\\site-packages (from requests->cachecontrol>=0.12.6->firebase_admin) (2.0.11)\n",
      "Requirement already satisfied: urllib3<1.27,>=1.21.1 in c:\\users\\pc\\appdata\\local\\programs\\python\\python310\\lib\\site-packages (from requests->cachecontrol>=0.12.6->firebase_admin) (1.26.8)\n",
      "Requirement already satisfied: certifi>=2017.4.17 in c:\\users\\pc\\appdata\\local\\programs\\python\\python310\\lib\\site-packages (from requests->cachecontrol>=0.12.6->firebase_admin) (2021.10.8)\n",
      "Requirement already satisfied: pyasn1<0.5.0,>=0.4.6 in c:\\users\\pc\\appdata\\local\\programs\\python\\python310\\lib\\site-packages (from pyasn1-modules>=0.2.1->google-auth<3.0dev,>=1.25.0->google-api-core[grpc]<3.0.0dev,>=1.22.1->firebase_admin) (0.4.8)\n"
     ]
    },
    {
     "name": "stderr",
     "output_type": "stream",
     "text": [
      "WARNING: You are using pip version 21.3.1; however, version 22.0.2 is available.\n",
      "You should consider upgrading via the 'C:\\Users\\pc\\AppData\\Local\\Programs\\Python\\Python310\\python.exe -m pip install --upgrade pip' command.\n"
     ]
    }
   ],
   "source": [
    "!pip install firebase_admin"
   ]
  },
  {
   "cell_type": "code",
   "execution_count": 2,
   "id": "8e785eba",
   "metadata": {},
   "outputs": [],
   "source": [
    "from firebase_admin import credentials"
   ]
  },
  {
   "cell_type": "code",
   "execution_count": 3,
   "id": "d59db709",
   "metadata": {},
   "outputs": [],
   "source": [
    "cred = credentials.Certificate('page-view-7a557-firebase-adminsdk-pdusy-bdba33fada.json')"
   ]
  },
  {
   "cell_type": "code",
   "execution_count": 4,
   "id": "5a5422f6",
   "metadata": {},
   "outputs": [
    {
     "data": {
      "text/plain": [
       "{}"
      ]
     },
     "execution_count": 4,
     "metadata": {},
     "output_type": "execute_result"
    }
   ],
   "source": [
    "import firebase_admin\n",
    "firebase_admin._apps"
   ]
  },
  {
   "cell_type": "code",
   "execution_count": 5,
   "id": "bd1c469e",
   "metadata": {},
   "outputs": [],
   "source": [
    "url = 'https://page-view-7a557-default-rtdb.asia-southeast1.firebasedatabase.app/'\n",
    "path = {'databaseURL' : url}\n",
    "\n",
    "import firebase_admin\n",
    "if not firebase_admin._apps:\n",
    "    firebase_admin.initialize_app(cred, path)"
   ]
  },
  {
   "cell_type": "code",
   "execution_count": 6,
   "id": "084e27dc",
   "metadata": {
    "scrolled": true
   },
   "outputs": [
    {
     "data": {
      "text/plain": [
       "4"
      ]
     },
     "execution_count": 6,
     "metadata": {},
     "output_type": "execute_result"
    }
   ],
   "source": [
    "from firebase_admin import db\n",
    "refv = db.reference('page-view-7a557')\n",
    "\n",
    "b = refv.get()\n",
    "b"
   ]
  },
  {
   "cell_type": "code",
   "execution_count": 7,
   "id": "cc5dad99",
   "metadata": {},
   "outputs": [
    {
     "data": {
      "text/plain": [
       "<firebase_admin.db.Reference at 0x1cbd2367af0>"
      ]
     },
     "execution_count": 7,
     "metadata": {},
     "output_type": "execute_result"
    }
   ],
   "source": [
    "ref = db.reference('book')\n",
    "ref"
   ]
  },
  {
   "cell_type": "code",
   "execution_count": 8,
   "id": "11513a99",
   "metadata": {},
   "outputs": [
    {
     "data": {
      "text/plain": [
       "{'a': 20, 'b': 23}"
      ]
     },
     "execution_count": 8,
     "metadata": {},
     "output_type": "execute_result"
    }
   ],
   "source": [
    "data = {'a':20,'b':23}\n",
    "data"
   ]
  },
  {
   "cell_type": "code",
   "execution_count": 9,
   "id": "4564ebe5",
   "metadata": {},
   "outputs": [],
   "source": [
    "ay = ref.set(data)\n",
    "ay"
   ]
  },
  {
   "cell_type": "code",
   "execution_count": 10,
   "id": "1b4c8844",
   "metadata": {},
   "outputs": [
    {
     "data": {
      "text/plain": [
       "4"
      ]
     },
     "execution_count": 10,
     "metadata": {},
     "output_type": "execute_result"
    }
   ],
   "source": [
    "ref = db.reference('page-view-7a557')\n",
    "av = ref.get()\n",
    "av"
   ]
  },
  {
   "cell_type": "code",
   "execution_count": 11,
   "id": "3e60a173",
   "metadata": {},
   "outputs": [],
   "source": [
    "av = av+1\n",
    "ref.set(av)"
   ]
  },
  {
   "cell_type": "code",
   "execution_count": null,
   "id": "f61cbb0c",
   "metadata": {},
   "outputs": [],
   "source": []
  }
 ],
 "metadata": {
  "kernelspec": {
   "display_name": "Python 3 (ipykernel)",
   "language": "python",
   "name": "python3"
  },
  "language_info": {
   "codemirror_mode": {
    "name": "ipython",
    "version": 3
   },
   "file_extension": ".py",
   "mimetype": "text/x-python",
   "name": "python",
   "nbconvert_exporter": "python",
   "pygments_lexer": "ipython3",
   "version": "3.10.2"
  }
 },
 "nbformat": 4,
 "nbformat_minor": 5
}
